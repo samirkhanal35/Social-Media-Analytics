{
 "cells": [
  {
   "cell_type": "code",
   "execution_count": 1,
   "metadata": {},
   "outputs": [],
   "source": [
    "import pandas as pd"
   ]
  },
  {
   "cell_type": "code",
   "execution_count": 2,
   "metadata": {},
   "outputs": [
    {
     "data": {
      "text/html": [
       "<div>\n",
       "<style scoped>\n",
       "    .dataframe tbody tr th:only-of-type {\n",
       "        vertical-align: middle;\n",
       "    }\n",
       "\n",
       "    .dataframe tbody tr th {\n",
       "        vertical-align: top;\n",
       "    }\n",
       "\n",
       "    .dataframe thead th {\n",
       "        text-align: right;\n",
       "    }\n",
       "</style>\n",
       "<table border=\"1\" class=\"dataframe\">\n",
       "  <thead>\n",
       "    <tr style=\"text-align: right;\">\n",
       "      <th></th>\n",
       "      <th>Unnamed: 0</th>\n",
       "      <th>comments</th>\n",
       "    </tr>\n",
       "  </thead>\n",
       "  <tbody>\n",
       "    <tr>\n",
       "      <th>0</th>\n",
       "      <td>0</td>\n",
       "      <td>Casually scoring two goals for his country :) ...</td>\n",
       "    </tr>\n",
       "    <tr>\n",
       "      <th>1</th>\n",
       "      <td>1</td>\n",
       "      <td>&lt;a href=\"https://www.youtube.com/watch?v=C6sVG...</td>\n",
       "    </tr>\n",
       "    <tr>\n",
       "      <th>2</th>\n",
       "      <td>2</td>\n",
       "      <td>Mausi chi gaand.....what a goal 🎉🎉</td>\n",
       "    </tr>\n",
       "    <tr>\n",
       "      <th>3</th>\n",
       "      <td>3</td>\n",
       "      <td>Messi🔥🔥🔥🔥🔥🔥🔥🔥</td>\n",
       "    </tr>\n",
       "    <tr>\n",
       "      <th>4</th>\n",
       "      <td>4</td>\n",
       "      <td>Claro , sin pitarle penal ,por mano en el area...</td>\n",
       "    </tr>\n",
       "  </tbody>\n",
       "</table>\n",
       "</div>"
      ],
      "text/plain": [
       "   Unnamed: 0                                           comments\n",
       "0           0  Casually scoring two goals for his country :) ...\n",
       "1           1  <a href=\"https://www.youtube.com/watch?v=C6sVG...\n",
       "2           2                 Mausi chi gaand.....what a goal 🎉🎉\n",
       "3           3                                      Messi🔥🔥🔥🔥🔥🔥🔥🔥\n",
       "4           4  Claro , sin pitarle penal ,por mano en el area..."
      ]
     },
     "execution_count": 2,
     "metadata": {},
     "output_type": "execute_result"
    }
   ],
   "source": [
    "df = pd.read_csv('comments.csv')\n",
    "df.head()"
   ]
  },
  {
   "cell_type": "code",
   "execution_count": 7,
   "metadata": {},
   "outputs": [
    {
     "data": {
      "text/plain": [
       "0    Casually scoring two goals for his country :) ...\n",
       "1    <a href=\"https://www.youtube.com/watch?v=C6sVG...\n",
       "2                   Mausi chi gaand.....what a goal 🎉🎉\n",
       "3                                        Messi🔥🔥🔥🔥🔥🔥🔥🔥\n",
       "4    Claro , sin pitarle penal ,por mano en el area...\n",
       "Name: comments, dtype: object"
      ]
     },
     "execution_count": 7,
     "metadata": {},
     "output_type": "execute_result"
    }
   ],
   "source": [
    "df = df['comments']\n",
    "df.head()"
   ]
  },
  {
   "cell_type": "code",
   "execution_count": 8,
   "metadata": {},
   "outputs": [
    {
     "data": {
      "text/plain": [
       "['Casually scoring two goals for his country :) Brilliant performance as alwyas',\n",
       " '<a href=\"https://www.youtube.com/watch?v=C6sVGS5NJG8&amp;t=2m25s\">2:25</a> deixou o cara duas vezes no chão',\n",
       " 'Mausi chi gaand.....what a goal 🎉🎉',\n",
       " 'Messi🔥🔥🔥🔥🔥🔥🔥🔥',\n",
       " 'Claro , sin pitarle penal ,por mano en el area, roja por falta al ultimo hombre de Peru, Codazos que no ve el arbitro ///ASI CUALQUIERA gana']"
      ]
     },
     "execution_count": 8,
     "metadata": {},
     "output_type": "execute_result"
    }
   ],
   "source": [
    "# make a list of comments\n",
    "comments = df.values.tolist()\n",
    "comments[:5]"
   ]
  },
  {
   "cell_type": "code",
   "execution_count": 10,
   "metadata": {},
   "outputs": [
    {
     "name": "stdout",
     "output_type": "stream",
     "text": [
      "Collecting emoji\n",
      "  Downloading emoji-2.8.0-py2.py3-none-any.whl (358 kB)\n",
      "\u001b[2K     \u001b[90m━━━━━━━━━━━━━━━━━━━━━━━━━━━━━━━━━━━━━\u001b[0m \u001b[32m358.9/358.9 kB\u001b[0m \u001b[31m811.2 kB/s\u001b[0m eta \u001b[36m0:00:00\u001b[0m00:01\u001b[0m00:01\u001b[0m\n",
      "\u001b[?25hInstalling collected packages: emoji\n",
      "Successfully installed emoji-2.8.0\n"
     ]
    }
   ],
   "source": [
    "!pip install emoji"
   ]
  },
  {
   "cell_type": "code",
   "execution_count": 12,
   "metadata": {},
   "outputs": [],
   "source": [
    "!pip install nltk --quiet"
   ]
  },
  {
   "cell_type": "code",
   "execution_count": 15,
   "metadata": {},
   "outputs": [
    {
     "name": "stderr",
     "output_type": "stream",
     "text": [
      "[nltk_data] Downloading package stopwords to\n",
      "[nltk_data]     /Users/sunilthapa/nltk_data...\n",
      "[nltk_data]   Package stopwords is already up-to-date!\n",
      "[nltk_data] Downloading package punkt to\n",
      "[nltk_data]     /Users/sunilthapa/nltk_data...\n",
      "[nltk_data]   Package punkt is already up-to-date!\n"
     ]
    },
    {
     "data": {
      "text/plain": [
       "['casually scoring two goals country brilliant performance alwyas',\n",
       " 'href deixou cara duas vezes ch',\n",
       " 'mausi chi gaand goal',\n",
       " 'messi',\n",
       " 'claro sin pitarle penal por mano en el area roja por falta al ultimo hombre de peru codazos que el arbitro asi cualquiera gana']"
      ]
     },
     "execution_count": 15,
     "metadata": {},
     "output_type": "execute_result"
    }
   ],
   "source": [
    "# Remove stopwords, emoji, links from comments\n",
    "import re\n",
    "import nltk\n",
    "from nltk.corpus import stopwords\n",
    "from nltk.tokenize import word_tokenize\n",
    "nltk.download('stopwords')\n",
    "nltk.download('punkt')\n",
    "stop_words = set(stopwords.words('english'))\n",
    "\n",
    "def clean_text(text):\n",
    "    text = re.sub(r'http\\S+', '', text)  # remove links\n",
    "    # use re to get english character from text\n",
    "    text = re.sub(r'[^a-zA-Z]', ' ', text)\n",
    "    text = text.lower()  # lower case\n",
    "    text = word_tokenize(text)  # split into words\n",
    "    text = [w for w in text if not w in stop_words]  # remove stopwords\n",
    "    text = ' '.join(text)  # join words\n",
    "    return text\n",
    "\n",
    "comments = [clean_text(text) for text in comments]\n",
    "comments[:5]"
   ]
  },
  {
   "cell_type": "code",
   "execution_count": 16,
   "metadata": {},
   "outputs": [
    {
     "data": {
      "text/plain": [
       "['casual score two goal countri brilliant perform alwya',\n",
       " 'href deixou cara dua veze ch',\n",
       " 'mausi chi gaand goal',\n",
       " 'messi',\n",
       " 'claro sin pitarl penal por mano en el area roja por falta al ultimo hombr de peru codazo que el arbitro asi cualquiera gana']"
      ]
     },
     "execution_count": 16,
     "metadata": {},
     "output_type": "execute_result"
    }
   ],
   "source": [
    "# porter stemmer, tokenization, tfidf\n",
    "from nltk.stem import PorterStemmer\n",
    "from nltk.tokenize import word_tokenize\n",
    "from sklearn.feature_extraction.text import TfidfVectorizer\n",
    "import re\n",
    "import nltk\n",
    "\n",
    "ps = PorterStemmer()\n",
    "def preprocess(sentence):\n",
    "    sentence = sentence.lower()\n",
    "    sentence = re.sub(r'[^a-zA-Z]', ' ', sentence)\n",
    "    words = word_tokenize(sentence)\n",
    "    words = [ps.stem(w) for w in words if not w in stop_words]\n",
    "    return ' '.join(words)\n",
    "\n",
    "comments = [preprocess(text) for text in comments]\n",
    "comments[:5]"
   ]
  },
  {
   "cell_type": "code",
   "execution_count": 17,
   "metadata": {},
   "outputs": [
    {
     "name": "stdout",
     "output_type": "stream",
     "text": [
      "['acceler', 'across', 'actual', 'al', 'alba', 'also', 'alvarez', 'alway', 'alwya', 'amo', 'amp', 'anh', 'anoth', 'arbitro', 'area', 'argentin', 'argentina', 'argentinaaa', 'arhentina', 'arjentina', 'asi', 'atleast', 'aww', 'back', 'ball', 'ballon', 'balon', 'band', 'believ', 'bell', 'best', 'bgi', 'bgu', 'biggest', 'bluffalda', 'border', 'bounc', 'br', 'brazilian', 'brazo', 'brilliant', 'bro', 'cada', 'cant', 'cao', 'captain', 'cara', 'casual', 'ce', 'celebr', 'cett', 'ch', 'chanc', 'chi', 'choic', 'chung', 'chute', 'claro', 'class', 'clobber', 'club', 'coach', 'codazo', 'come', 'congratul', 'control', 'cord', 'could', 'countless', 'countri', 'cr', 'credit', 'cross', 'cu', 'cualquiera', 'cute', 'david', 'de', 'defend', 'definit', 'deixou', 'del', 'describ', 'dibarca', 'disisi', 'dor', 'doubt', 'dua', 'dude', 'easi', 'easili', 'editor', 'effortless', 'el', 'eliminatoria', 'ell', 'empuk', 'en', 'enter', 'es', 'ess', 'est', 'europ', 'ever', 'everyon', 'explain', 'extra', 'falta', 'fan', 'fast', 'feel', 'ficar', 'field', 'finish', 'first', 'fkn', 'foot', 'footbal', 'forev', 'futbol', 'gaand', 'gak', 'game', 'gana', 'geniu', 'ghi', 'gi', 'give', 'go', 'goal', 'goat', 'god', 'gol', 'goleador', 'got', 'great', 'greatest', 'guy', 'half', 'halnya', 'happi', 'he', 'heart', 'highlight', 'histori', 'historia', 'hit', 'ho', 'hombr', 'homem', 'href', 'hug', 'idea', 'im', 'immort', 'imposs', 'impresionant', 'incred', 'india', 'intern', 'itu', 'jeka', 'jesussssss', 'job', 'jogar', 'joie', 'julian', 'keep', 'keeper', 'kh', 'khi', 'khinh', 'ki', 'kidal', 'kinda', 'kiri', 'klau', 'know', 'komen', 'krna', 'la', 'last', 'leav', 'leo', 'level', 'like', 'lionel', 'liter', 'lo', 'look', 'lose', 'made', 'magic', 'make', 'man', 'manag', 'mani', 'mano', 'masterclass', 'match', 'mausi', 'meeessssiiiiiiiiiiiiii', 'meilleur', 'mejor', 'mejora', 'melhor', 'memang', 'mese', 'messi', 'messssiiii', 'miami', 'millisecond', 'min', 'minuto', 'miss', 'mode', 'moment', 'move', 'natur', 'ng', 'ngang', 'ngh', 'nghi', 'nh', 'nice', 'nico', 'noma', 'nuevo', 'numero', 'nya', 'oh', 'one', 'oppon', 'opportun', 'oro', 'os', 'overpow', 'pace', 'pardon', 'patern', 'paus', 'penal', 'perfectli', 'perform', 'peru', 'pessi', 'pitarl', 'place', 'plan', 'planeta', 'play', 'player', 'pleas', 'pode', 'por', 'possibl', 'power', 'process', 'procur', 'pure', 'quang', 'que', 'quell', 'question', 'quien', 'quip', 'reach', 'real', 'record', 'red', 'rey', 'rica', 'rig', 'right', 'rob', 'roja', 'ronalda', 'ronaldo', 'run', 'sama', 'sangat', 'say', 'scaloni', 'score', 'scorer', 'se', 'see', 'seem', 'sem', 'sere', 'shirt', 'show', 'siendo', 'sigu', 'sin', 'skill', 'sleep', 'someon', 'speed', 'ssi', 'star', 'station', 'stay', 'still', 'stollen', 'su', 'success', 'sur', 'sure', 'surpass', 'ta', 'talent', 'tango', 'tarik', 'te', 'team', 'teammat', 'tell', 'tempo', 'terrestr', 'th', 'thank', 'thao', 'thing', 'thu', 'tiempo', 'til', 'time', 'tinh', 'today', 'toditita', 'todo', 'toil', 'top', 'tr', 'trao', 'tung', 'tuy', 'two', 'ucl', 'ultimo', 'umpan', 'un', 'us', 'use', 'vamo', 'veze', 'video', 'vinh', 'vision', 'volley', 'waktu', 'watch', 'way', 'wc', 'weird', 'win', 'winger', 'without', 'world', 'wow', 'wtf', 'ximo', 'year', 'yg']\n",
      "(96, 365)\n"
     ]
    },
    {
     "name": "stderr",
     "output_type": "stream",
     "text": [
      "/Users/sunilthapa/opt/miniconda3/envs/AML1214/lib/python3.8/site-packages/sklearn/utils/deprecation.py:87: FutureWarning: Function get_feature_names is deprecated; get_feature_names is deprecated in 1.0 and will be removed in 1.2. Please use get_feature_names_out instead.\n",
      "  warnings.warn(msg, category=FutureWarning)\n"
     ]
    }
   ],
   "source": [
    "# tfidf\n",
    "vectorizer = TfidfVectorizer()\n",
    "X = vectorizer.fit_transform(comments)\n",
    "print(vectorizer.get_feature_names())\n",
    "print(X.shape)\n"
   ]
  },
  {
   "cell_type": "code",
   "execution_count": null,
   "metadata": {},
   "outputs": [],
   "source": []
  }
 ],
 "metadata": {
  "kernelspec": {
   "display_name": "AML1214",
   "language": "python",
   "name": "python3"
  },
  "language_info": {
   "codemirror_mode": {
    "name": "ipython",
    "version": 3
   },
   "file_extension": ".py",
   "mimetype": "text/x-python",
   "name": "python",
   "nbconvert_exporter": "python",
   "pygments_lexer": "ipython3",
   "version": "3.8.13"
  }
 },
 "nbformat": 4,
 "nbformat_minor": 2
}
