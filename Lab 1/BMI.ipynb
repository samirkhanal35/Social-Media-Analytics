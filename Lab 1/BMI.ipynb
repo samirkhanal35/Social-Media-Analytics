{
 "cells": [
  {
   "cell_type": "code",
   "execution_count": 1,
   "metadata": {},
   "outputs": [],
   "source": [
    "import textract"
   ]
  },
  {
   "cell_type": "code",
   "execution_count": 2,
   "metadata": {},
   "outputs": [],
   "source": [
    "text = textract.process('hw.txt')\n",
    "text = text.decode(\"utf-8\") "
   ]
  },
  {
   "cell_type": "code",
   "execution_count": 3,
   "metadata": {},
   "outputs": [],
   "source": [
    "text1 = text.split('\\n')"
   ]
  },
  {
   "cell_type": "code",
   "execution_count": 4,
   "metadata": {},
   "outputs": [
    {
     "data": {
      "text/plain": [
       "['180',\n",
       " '180',\n",
       " '170',\n",
       " '200',\n",
       " '170',\n",
       " '180',\n",
       " '140',\n",
       " '190',\n",
       " '180',\n",
       " '130',\n",
       " '150',\n",
       " '220',\n",
       " '185',\n",
       " '110',\n",
       " '165',\n",
       " '300',\n",
       " '150',\n",
       " '86',\n",
       " '140',\n",
       " '300',\n",
       " '155',\n",
       " '150',\n",
       " '182',\n",
       " '178',\n",
       " '170',\n",
       " '150',\n",
       " '']"
      ]
     },
     "execution_count": 4,
     "metadata": {},
     "output_type": "execute_result"
    }
   ],
   "source": [
    "text1"
   ]
  },
  {
   "cell_type": "code",
   "execution_count": 5,
   "metadata": {},
   "outputs": [
    {
     "data": {
      "text/plain": [
       "[180,\n",
       " 180,\n",
       " 170,\n",
       " 200,\n",
       " 170,\n",
       " 180,\n",
       " 140,\n",
       " 190,\n",
       " 180,\n",
       " 130,\n",
       " 150,\n",
       " 220,\n",
       " 185,\n",
       " 110,\n",
       " 165,\n",
       " 300,\n",
       " 150,\n",
       " 86,\n",
       " 140,\n",
       " 300,\n",
       " 155,\n",
       " 150,\n",
       " 182,\n",
       " 178,\n",
       " 170,\n",
       " 150]"
      ]
     },
     "execution_count": 5,
     "metadata": {},
     "output_type": "execute_result"
    }
   ],
   "source": [
    "txt = [int(i) for i in text1[:-1]]\n",
    "txt "
   ]
  },
  {
   "cell_type": "code",
   "execution_count": 6,
   "metadata": {},
   "outputs": [],
   "source": [
    "def convert_height(x):\n",
    "    return ((x/100)**2)"
   ]
  },
  {
   "cell_type": "code",
   "execution_count": 7,
   "metadata": {},
   "outputs": [],
   "source": [
    "def convert_weight(y):\n",
    "    return (y/2.2)"
   ]
  },
  {
   "cell_type": "code",
   "execution_count": 8,
   "metadata": {},
   "outputs": [],
   "source": [
    "all_bmi = [(convert_weight(txt[x+1])/convert_height(txt[x])) for x in range(0, len(txt), 2)] "
   ]
  },
  {
   "cell_type": "code",
   "execution_count": 9,
   "metadata": {},
   "outputs": [
    {
     "data": {
      "text/plain": [
       "[25.25252525252525,\n",
       " 31.456432840515888,\n",
       " 28.310789556464297,\n",
       " 44.063079777365495,\n",
       " 18.23793490460157,\n",
       " 44.444444444444436,\n",
       " 14.609203798392985,\n",
       " 50.087653393438515,\n",
       " 17.37373737373737,\n",
       " 69.57328385899814,\n",
       " 28.379528899820254,\n",
       " 24.426123327222225,\n",
       " 23.592324630386912]"
      ]
     },
     "execution_count": 9,
     "metadata": {},
     "output_type": "execute_result"
    }
   ],
   "source": [
    "all_bmi"
   ]
  },
  {
   "cell_type": "code",
   "execution_count": 12,
   "metadata": {},
   "outputs": [],
   "source": [
    "Underweight = [(x,i) for i,x in enumerate(all_bmi,0) if x<18.5]\n",
    "Normal_weight = [(x,i) for i,x in enumerate(all_bmi,0) if 18.5<x<24.9]\n",
    "Overweight = [(x,i) for i,x in enumerate(all_bmi,0) if 25<x<29.9]\n",
    "Obesity = [(x,i) for i,x in enumerate(all_bmi,0) if x>=30]"
   ]
  },
  {
   "cell_type": "code",
   "execution_count": 17,
   "metadata": {},
   "outputs": [
    {
     "name": "stdout",
     "output_type": "stream",
     "text": [
      "Underweight:\n",
      "Person-4 : 18.23793490460157\n",
      "Person-6 : 14.609203798392985\n",
      "Person-8 : 17.37373737373737\n",
      "Group Size: 3\n",
      "Average BMI for this group: 16.740292025577308\n",
      "Normal weight:\n",
      "Person-11 : 24.426123327222225\n",
      "Person-12 : 23.592324630386912\n",
      "Group Size: 2\n",
      "Average BMI for this group: 16.006149319203047\n",
      "Overweight:\n",
      "Person-0 : 25.25252525252525\n",
      "Person-2 : 28.310789556464297\n",
      "Person-10 : 28.379528899820254\n",
      "Group Size: 3\n",
      "Average BMI for this group: 27.314281236269935\n",
      "Obesity:\n",
      "Person-1 : 31.456432840515888\n",
      "Person-3 : 44.063079777365495\n",
      "Person-5 : 44.444444444444436\n",
      "Person-7 : 50.087653393438515\n",
      "Person-9 : 69.57328385899814\n",
      "Group Size: 5\n",
      "Average BMI for this group: 79.87496477158749\n",
      "The file has records for: 13\n",
      "Average BMI for all these 13 persons: 32.292850927531795\n"
     ]
    }
   ],
   "source": [
    "# For Underweight\n",
    "print(\"Underweight:\")\n",
    "total_ = 0\n",
    "for each in Underweight:\n",
    "    print(\"Person-{0} : {1}\".format(each[1], each[0]))\n",
    "    total_ += each[0]\n",
    "print(\"Group Size:\", len(Underweight))\n",
    "print(\"Average BMI for this group:\", (total_/len(Underweight)))\n",
    "\n",
    "# For Normal_weight\n",
    "print(\"Normal weight:\")\n",
    "total_ = 0\n",
    "for each in Normal_weight:\n",
    "    print(\"Person-{0} : {1}\".format(each[1], each[0]))\n",
    "    total_ += each[0]\n",
    "print(\"Group Size:\", len(Normal_weight))\n",
    "print(\"Average BMI for this group:\", (total_/len(Underweight)))\n",
    "\n",
    "# For Overweight\n",
    "print(\"Overweight:\")\n",
    "total_ = 0\n",
    "for each in Overweight:\n",
    "    print(\"Person-{0} : {1}\".format(each[1], each[0]))\n",
    "    total_ += each[0]\n",
    "print(\"Group Size:\", len(Overweight))\n",
    "print(\"Average BMI for this group:\", (total_/len(Underweight)))\n",
    "\n",
    "# For Obesity\n",
    "print(\"Obesity:\")\n",
    "total_ = 0\n",
    "for each in Obesity:\n",
    "    print(\"Person-{0} : {1}\".format(each[1], each[0]))\n",
    "    total_ += each[0]\n",
    "print(\"Group Size:\", len(Obesity))\n",
    "print(\"Average BMI for this group:\", (total_/len(Underweight)))\n",
    "\n",
    "# For all records\n",
    "print(\"The file has records for:\", len(all_bmi))\n",
    "print(\"Average BMI for all these\", len(all_bmi), \"persons:\", (sum(all_bmi)/len(all_bmi)))"
   ]
  },
  {
   "cell_type": "code",
   "execution_count": null,
   "metadata": {},
   "outputs": [],
   "source": []
  }
 ],
 "metadata": {
  "kernelspec": {
   "display_name": "base",
   "language": "python",
   "name": "python3"
  },
  "language_info": {
   "codemirror_mode": {
    "name": "ipython",
    "version": 3
   },
   "file_extension": ".py",
   "mimetype": "text/x-python",
   "name": "python",
   "nbconvert_exporter": "python",
   "pygments_lexer": "ipython3",
   "version": "3.9.12"
  },
  "orig_nbformat": 4
 },
 "nbformat": 4,
 "nbformat_minor": 2
}
