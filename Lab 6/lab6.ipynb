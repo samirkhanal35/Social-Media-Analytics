{
 "cells": [
  {
   "cell_type": "code",
   "execution_count": 1,
   "metadata": {},
   "outputs": [],
   "source": [
    "import numpy as np "
   ]
  },
  {
   "cell_type": "markdown",
   "metadata": {},
   "source": [
    "Matrix Factorization"
   ]
  },
  {
   "cell_type": "code",
   "execution_count": 2,
   "metadata": {},
   "outputs": [],
   "source": [
    "# Create rating table\n",
    "R = np.array([\n",
    "    [5, 3, 0, 1, 4],\n",
    "    [4, 0, 0, 2, 5],\n",
    "    [0, 5, 4, 3, 0],\n",
    "    [2, 3, 1, 3, 5]\n",
    "])"
   ]
  },
  {
   "cell_type": "code",
   "execution_count": 3,
   "metadata": {},
   "outputs": [
    {
     "data": {
      "text/plain": [
       "array([[5, 3, 0, 1, 4],\n",
       "       [4, 0, 0, 2, 5],\n",
       "       [0, 5, 4, 3, 0],\n",
       "       [2, 3, 1, 3, 5]])"
      ]
     },
     "execution_count": 3,
     "metadata": {},
     "output_type": "execute_result"
    }
   ],
   "source": [
    "R"
   ]
  },
  {
   "cell_type": "code",
   "execution_count": 4,
   "metadata": {},
   "outputs": [
    {
     "data": {
      "text/plain": [
       "(4, 5)"
      ]
     },
     "execution_count": 4,
     "metadata": {},
     "output_type": "execute_result"
    }
   ],
   "source": [
    "# Number of latent features\n",
    "k=2 \n",
    "\n",
    "# Number of users and movies\n",
    "num_users, num_movies = R.shape\n",
    "num_users, num_movies"
   ]
  },
  {
   "cell_type": "code",
   "execution_count": 40,
   "metadata": {},
   "outputs": [
    {
     "data": {
      "text/plain": [
       "(array([[0.60905227, 0.32722576],\n",
       "        [0.88661103, 0.45602686],\n",
       "        [0.34791848, 0.78991653],\n",
       "        [0.13710843, 0.49376367]]),\n",
       " array([[0.23486086, 0.86349094, 0.2370529 , 0.74341572, 0.89243882],\n",
       "        [0.41817907, 0.73733112, 0.75519976, 0.32530611, 0.77062237]]))"
      ]
     },
     "execution_count": 40,
     "metadata": {},
     "output_type": "execute_result"
    }
   ],
   "source": [
    "# Randomly initialize user and movie matrix\n",
    "U = np.random.rand(num_users, k)\n",
    "M = np.random.rand(k, num_movies)\n",
    "U, M "
   ]
  },
  {
   "cell_type": "code",
   "execution_count": 41,
   "metadata": {},
   "outputs": [],
   "source": [
    "# Hyperparameters\n",
    "num_iterations = 10000\n",
    "learning_rate = 0.01 "
   ]
  },
  {
   "cell_type": "code",
   "execution_count": 42,
   "metadata": {},
   "outputs": [],
   "source": [
    "# perform matrix factorization using SGD\n",
    "for i in range(num_iterations):\n",
    "    for user in range(num_users):\n",
    "        for movie in range(num_movies):\n",
    "            if R[user,movie] > 0:\n",
    "                error = R[user,movie] - np.dot(U[user,:], M[:,movie])\n",
    "                # print(error)\n",
    "                U[user,:] +=  learning_rate * (2 * error * M[:,movie])\n",
    "                M[:,movie] += learning_rate * (2 * error * U[user,:])"
   ]
  },
  {
   "cell_type": "code",
   "execution_count": 43,
   "metadata": {},
   "outputs": [
    {
     "data": {
      "text/plain": [
       "array([[ 4.07318025, -2.3350948 ],\n",
       "       [ 2.65211244, -0.78611889],\n",
       "       [ 0.41613359,  1.69171931],\n",
       "       [ 0.56818769,  1.01589755]])"
      ]
     },
     "execution_count": 43,
     "metadata": {},
     "output_type": "execute_result"
    }
   ],
   "source": [
    "U"
   ]
  },
  {
   "cell_type": "code",
   "execution_count": 44,
   "metadata": {},
   "outputs": [
    {
     "data": {
      "text/plain": [
       "array([[ 1.79048241,  2.03012842, -4.33900824,  1.24570748,  2.87045913],\n",
       "       [ 0.97640514,  2.26889684,  3.42511305,  1.71180164,  3.30000813]])"
      ]
     },
     "execution_count": 44,
     "metadata": {},
     "output_type": "execute_result"
    }
   ],
   "source": [
    "M"
   ]
  },
  {
   "cell_type": "code",
   "execution_count": 45,
   "metadata": {},
   "outputs": [
    {
     "data": {
      "text/plain": [
       "0.028065165381844004"
      ]
     },
     "execution_count": 45,
     "metadata": {},
     "output_type": "execute_result"
    }
   ],
   "source": [
    "error"
   ]
  },
  {
   "cell_type": "code",
   "execution_count": 46,
   "metadata": {},
   "outputs": [
    {
     "data": {
      "text/plain": [
       "array([[  5.01295903,   2.97098978, -25.67152632,   1.07677199,\n",
       "          3.98606563],\n",
       "       [  3.98099015,   3.60050618, -14.20008377,   1.9580767 ,\n",
       "          5.01858165],\n",
       "       [  2.39688331,   4.68314122,   3.98872277,   3.41426862,\n",
       "          6.77718194],\n",
       "       [  2.00925765,   3.4584607 ,   1.01419288,   2.44681074,\n",
       "          4.9834297 ]])"
      ]
     },
     "execution_count": 46,
     "metadata": {},
     "output_type": "execute_result"
    }
   ],
   "source": [
    "# Reconstruct the Matrix\n",
    "R_approx = np.dot(U, M)\n",
    "R_approx"
   ]
  },
  {
   "cell_type": "code",
   "execution_count": 47,
   "metadata": {},
   "outputs": [
    {
     "name": "stdout",
     "output_type": "stream",
     "text": [
      "Original Matrix: \n",
      "[[5 3 0 1 4]\n",
      " [4 0 0 2 5]\n",
      " [0 5 4 3 0]\n",
      " [2 3 1 3 5]]\n",
      "Predicted Matrix: \n",
      "[[  5.01295903   2.97098978 -25.67152632   1.07677199   3.98606563]\n",
      " [  3.98099015   3.60050618 -14.20008377   1.9580767    5.01858165]\n",
      " [  2.39688331   4.68314122   3.98872277   3.41426862   6.77718194]\n",
      " [  2.00925765   3.4584607    1.01419288   2.44681074   4.9834297 ]]\n",
      "Scaled Predicted Matrix: \n",
      "[[5 3 1 1 4]\n",
      " [4 4 1 2 5]\n",
      " [2 5 4 3 5]\n",
      " [2 3 1 2 5]]\n"
     ]
    }
   ],
   "source": [
    "# Display Results comparing to the original\n",
    "print(\"Original Matrix: \")\n",
    "print(R)\n",
    "print(\"Predicted Matrix: \")\n",
    "print(R_approx)\n",
    "print(\"Scaled Predicted Matrix: \")\n",
    "R_approx_scaled = np.clip(np.round(R_approx), 1, 5).astype(int)\n",
    "print(R_approx_scaled)"
   ]
  },
  {
   "cell_type": "code",
   "execution_count": null,
   "metadata": {},
   "outputs": [],
   "source": []
  }
 ],
 "metadata": {
  "kernelspec": {
   "display_name": "base",
   "language": "python",
   "name": "python3"
  },
  "language_info": {
   "codemirror_mode": {
    "name": "ipython",
    "version": 3
   },
   "file_extension": ".py",
   "mimetype": "text/x-python",
   "name": "python",
   "nbconvert_exporter": "python",
   "pygments_lexer": "ipython3",
   "version": "3.9.12"
  }
 },
 "nbformat": 4,
 "nbformat_minor": 2
}
